{
 "cells": [
  {
   "cell_type": "code",
   "execution_count": 8,
   "metadata": {},
   "outputs": [
    {
     "data": {
      "text/plain": [
       "<re.Match object; span=(0, 1), match='p'>"
      ]
     },
     "execution_count": 8,
     "metadata": {},
     "output_type": "execute_result"
    }
   ],
   "source": [
    "#math():\n",
    "import re\n",
    "re.match(\"p\",\"python\")"
   ]
  },
  {
   "cell_type": "code",
   "execution_count": 4,
   "metadata": {},
   "outputs": [
    {
     "data": {
      "text/plain": [
       "<re.Match object; span=(5, 6), match='n'>"
      ]
     },
     "execution_count": 4,
     "metadata": {},
     "output_type": "execute_result"
    }
   ],
   "source": [
    "#search()\n",
    "import re\n",
    "re.search(\"n\",\"python\")"
   ]
  },
  {
   "cell_type": "code",
   "execution_count": 5,
   "metadata": {},
   "outputs": [],
   "source": [
    "import re\n",
    "re.search(\"z\",\"python\")"
   ]
  },
  {
   "cell_type": "code",
   "execution_count": 7,
   "metadata": {},
   "outputs": [
    {
     "data": {
      "text/plain": [
       "['m', 'm']"
      ]
     },
     "execution_count": 7,
     "metadata": {},
     "output_type": "execute_result"
    }
   ],
   "source": [
    "#findall()\n",
    "import re\n",
    "re.findall(\"m\",\"python programming\")"
   ]
  },
  {
   "cell_type": "code",
   "execution_count": null,
   "metadata": {},
   "outputs": [],
   "source": [
    "^-start\n",
    "$-end\n",
    "[0-9]-numbers\n",
    "[a-z]-small\n",
    "[A-Z]-capitals\n",
    "[a-zA-Z]-may be both\n",
    "[@]-special symbols (only single)\n",
    "[2468]-all single digit multiples of 2\n",
    "[6-9]-it takes only one digits(6 or 7 or 8or 9)"
   ]
  },
  {
   "cell_type": "code",
   "execution_count": 3,
   "metadata": {},
   "outputs": [
    {
     "name": "stdout",
     "output_type": "stream",
     "text": [
      "enter a mobileno:789098765434556\n",
      "not a valid number\n"
     ]
    }
   ],
   "source": [
    "import re\n",
    "phone=input(\"enter a mobileno:\")\n",
    "pattern=\"^[6-9][0-9]{9}$\"\n",
    "if re.match(pattern,phone):\n",
    "    print(\"valid number\")\n",
    "else:\n",
    "    print(\"not a valid number\")"
   ]
  },
  {
   "cell_type": "code",
   "execution_count": 2,
   "metadata": {},
   "outputs": [
    {
     "name": "stdout",
     "output_type": "stream",
     "text": [
      "enter a mobileno:8989898989\n",
      "valid number\n"
     ]
    }
   ],
   "source": [
    "#phone number valid\n",
    "import re\n",
    "phone=input(\"enter a mobileno:\")\n",
    "pattern=\"^[6-9][0-9]{9}|[+][9][1][6-9][0-9]{9}$\"\n",
    "if re.match(pattern,phone):\n",
    "    print(\"valid number\")\n",
    "else:\n",
    "    print(\"not a valid number\")"
   ]
  },
  {
   "cell_type": "code",
   "execution_count": 4,
   "metadata": {},
   "outputs": [
    {
     "name": "stdout",
     "output_type": "stream",
     "text": [
      "enter a emailid:23ramya@gmail.com\n",
      "valid emailid\n"
     ]
    }
   ],
   "source": [
    "#email validator\n",
    "#username@domain.extension\n",
    "#ramya@gmail.com\n",
    "import re\n",
    "email=input(\"enter a emailid:\")\n",
    "pattern=\"^[a-z0-9][a-z0-9._]{5,20}[@][a-z]{5,10}[.][a-z]{2,5}$\"\n",
    "if re.match(pattern,email):\n",
    "    print(\"valid emailid\")\n",
    "else:\n",
    "    print(\"not a valid emailid\")"
   ]
  },
  {
   "cell_type": "code",
   "execution_count": null,
   "metadata": {},
   "outputs": [],
   "source": [
    "apssdc.123@gmail.com"
   ]
  },
  {
   "cell_type": "code",
   "execution_count": null,
   "metadata": {},
   "outputs": [],
   "source": []
  },
  {
   "cell_type": "code",
   "execution_count": null,
   "metadata": {},
   "outputs": [],
   "source": []
  },
  {
   "cell_type": "markdown",
   "metadata": {},
   "source": [
    "# file handling"
   ]
  },
  {
   "cell_type": "code",
   "execution_count": null,
   "metadata": {},
   "outputs": [],
   "source": [
    "-filr handling allows users to handle the files.\n",
    "#steps\n",
    "-open a file\n",
    "-doing the operations\n",
    "-close a file\n"
   ]
  },
  {
   "cell_type": "code",
   "execution_count": null,
   "metadata": {},
   "outputs": [],
   "source": [
    "#syntax\n",
    "open(filename,mode)\n",
    "#3modes\n",
    "-read \"r\"\n",
    "-write \"w\"\n",
    "-append \"a\"\n"
   ]
  },
  {
   "cell_type": "code",
   "execution_count": 5,
   "metadata": {},
   "outputs": [
    {
     "name": "stdout",
     "output_type": "stream",
     "text": [
      "hai ramya\n"
     ]
    }
   ],
   "source": [
    "f=open('data.txt')\n",
    "fr=f.read()\n",
    "print(fr)\n",
    "f.close()"
   ]
  },
  {
   "cell_type": "code",
   "execution_count": 7,
   "metadata": {},
   "outputs": [
    {
     "name": "stdout",
     "output_type": "stream",
     "text": [
      "hai ramya\n"
     ]
    }
   ],
   "source": [
    "# using with open()\n",
    "with open('data.txt') as f:\n",
    "    fr=f.read()\n",
    "    print(fr)"
   ]
  },
  {
   "cell_type": "code",
   "execution_count": 9,
   "metadata": {},
   "outputs": [
    {
     "name": "stdout",
     "output_type": "stream",
     "text": [
      "hai ramya\n"
     ]
    }
   ],
   "source": [
    "# with \"r\" mode\n",
    "#without close()\n",
    "f=open('data.txt',\"r\")\n",
    "fr=f.read()\n",
    "print(fr)\n",
    "f.close()"
   ]
  },
  {
   "cell_type": "markdown",
   "metadata": {},
   "source": [
    "# write()"
   ]
  },
  {
   "cell_type": "code",
   "execution_count": 12,
   "metadata": {},
   "outputs": [
    {
     "name": "stdout",
     "output_type": "stream",
     "text": [
      "19\n"
     ]
    }
   ],
   "source": [
    "f=open('data1.txt',\"w\")\n",
    "fr=f.write('python programming\\n')\n",
    "print(fr)\n",
    "f.close()"
   ]
  },
  {
   "cell_type": "code",
   "execution_count": 14,
   "metadata": {},
   "outputs": [
    {
     "name": "stdout",
     "output_type": "stream",
     "text": [
      "6\n"
     ]
    }
   ],
   "source": [
    "f=open('data.txt',\"w\")\n",
    "fr=f.write('ramya\\n')\n",
    "print(fr)\n",
    "f.close()"
   ]
  },
  {
   "cell_type": "code",
   "execution_count": 16,
   "metadata": {},
   "outputs": [
    {
     "name": "stdout",
     "output_type": "stream",
     "text": [
      "8\n"
     ]
    }
   ],
   "source": [
    "f=open('data1.txt',\"w\")\n",
    "fr=f.write(\"hai hai\\n\")\n",
    "print(fr)\n",
    "f.close()"
   ]
  },
  {
   "cell_type": "markdown",
   "metadata": {},
   "source": [
    "# appen()"
   ]
  },
  {
   "cell_type": "code",
   "execution_count": 18,
   "metadata": {},
   "outputs": [
    {
     "name": "stdout",
     "output_type": "stream",
     "text": [
      "13\n"
     ]
    }
   ],
   "source": [
    "f=open('data1.txt',\"a\")\n",
    "fr=f.write(\"haihai ramya\\n\")\n",
    "print(fr)\n",
    "f.close()"
   ]
  },
  {
   "cell_type": "code",
   "execution_count": 19,
   "metadata": {},
   "outputs": [
    {
     "name": "stdout",
     "output_type": "stream",
     "text": [
      "['hai', 'hai', 'hello', 'ramya', 'line', 'ramya', 'line2', 'line3']\n"
     ]
    }
   ],
   "source": [
    "f=open('data1.txt',\"r\")# split lines\n",
    "fr=f.read()\n",
    "print(fr.split())\n",
    "f.close()"
   ]
  },
  {
   "cell_type": "code",
   "execution_count": 20,
   "metadata": {},
   "outputs": [
    {
     "name": "stdout",
     "output_type": "stream",
     "text": [
      "['hai hai', 'hello ramya', 'line ramya', 'line2', 'line3']\n"
     ]
    }
   ],
   "source": [
    "f=open('data1.txt',\"r\")#split lines\n",
    "fr=f.read()\n",
    "print(fr.splitlines())\n",
    "f.close()"
   ]
  },
  {
   "cell_type": "code",
   "execution_count": 21,
   "metadata": {},
   "outputs": [
    {
     "name": "stdout",
     "output_type": "stream",
     "text": [
      "['hai hai\\n', 'hello ramya\\n', 'line ramya\\n', 'line2\\n', 'line3\\n']\n"
     ]
    }
   ],
   "source": [
    "f=open('data1.txt',\"r\")#readlines\n",
    "fr=f.readlines()\n",
    "print(fr)\n",
    "f.close()"
   ]
  },
  {
   "cell_type": "code",
   "execution_count": 23,
   "metadata": {},
   "outputs": [
    {
     "name": "stdout",
     "output_type": "stream",
     "text": [
      "hai hai\n",
      "\n",
      "hello ramya\n",
      "\n",
      "line ramya\n",
      "\n",
      "line2\n",
      "\n",
      "line3\n",
      "\n"
     ]
    }
   ],
   "source": [
    "f=open('data1.txt',\"r\")\n",
    "fr=f.readlines()\n",
    "for i in fr:\n",
    "    print(i)\n",
    "f.close()"
   ]
  },
  {
   "cell_type": "code",
   "execution_count": 24,
   "metadata": {},
   "outputs": [
    {
     "name": "stdout",
     "output_type": "stream",
     "text": [
      "hai hai\n",
      " hello ramya\n",
      " line ramya\n",
      " line2\n",
      " line3\n",
      " "
     ]
    }
   ],
   "source": [
    "f=open('data1.txt',\"r\")\n",
    "fr=f.readlines()\n",
    "for i in fr:\n",
    "    print(i,end=\" \")\n",
    "f.close()"
   ]
  },
  {
   "cell_type": "code",
   "execution_count": 26,
   "metadata": {},
   "outputs": [
    {
     "name": "stdout",
     "output_type": "stream",
     "text": [
      "43\n"
     ]
    }
   ],
   "source": [
    "f=open('data1.txt',\"r\")# split lines\n",
    "f.read()\n",
    "print(f.tell())\n",
    "f.close()"
   ]
  },
  {
   "cell_type": "code",
   "execution_count": 27,
   "metadata": {},
   "outputs": [
    {
     "name": "stdout",
     "output_type": "stream",
     "text": [
      "hai hai\n"
     ]
    }
   ],
   "source": [
    "f=open('data1.txt',\"r\")# split lines\n",
    "f.read()\n",
    "f.seek(0)\n",
    "print(f.read(7))\n",
    "f.close()"
   ]
  },
  {
   "cell_type": "code",
   "execution_count": null,
   "metadata": {},
   "outputs": [],
   "source": []
  }
 ],
 "metadata": {
  "kernelspec": {
   "display_name": "Python 3",
   "language": "python",
   "name": "python3"
  },
  "language_info": {
   "codemirror_mode": {
    "name": "ipython",
    "version": 3
   },
   "file_extension": ".py",
   "mimetype": "text/x-python",
   "name": "python",
   "nbconvert_exporter": "python",
   "pygments_lexer": "ipython3",
   "version": "3.7.6"
  }
 },
 "nbformat": 4,
 "nbformat_minor": 4
}
