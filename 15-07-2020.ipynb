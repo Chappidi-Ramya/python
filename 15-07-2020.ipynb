{
 "cells": [
  {
   "cell_type": "code",
   "execution_count": null,
   "metadata": {},
   "outputs": [],
   "source": [
    "#if statement\n",
    "if condition:\n",
    "        statement\n",
    "#intendation:\n",
    "-four spapces or one tab space"
   ]
  },
  {
   "cell_type": "code",
   "execution_count": 1,
   "metadata": {},
   "outputs": [
    {
     "name": "stdout",
     "output_type": "stream",
     "text": [
      "enter a number:2314\n",
      "positive\n"
     ]
    }
   ],
   "source": [
    "#positive\n",
    "n=int(input(\"enter a number:\"))\n",
    "if n>0:\n",
    "    print(\"positive\")"
   ]
  },
  {
   "cell_type": "code",
   "execution_count": 2,
   "metadata": {},
   "outputs": [
    {
     "name": "stdout",
     "output_type": "stream",
     "text": [
      "enter a number:7\n",
      "n is smaller than 10\n"
     ]
    }
   ],
   "source": [
    "n=int(input(\"enter a number:\"))\n",
    "if n<10:\n",
    "    print(\"n is smaller than 10\")"
   ]
  },
  {
   "cell_type": "code",
   "execution_count": null,
   "metadata": {},
   "outputs": [],
   "source": [
    "#2. if else\n",
    "#syntax:\n",
    "if condition:\n",
    "    statement\n",
    "else:\n",
    "    statement"
   ]
  },
  {
   "cell_type": "code",
   "execution_count": 3,
   "metadata": {},
   "outputs": [
    {
     "name": "stdout",
     "output_type": "stream",
     "text": [
      "enter age:23\n",
      "eligable\n"
     ]
    }
   ],
   "source": [
    "age=int(input(\"enter age:\"))\n",
    "if age>=18:\n",
    "    print(\"eligable\")\n",
    "else:\n",
    "    print(\"not eligable\")"
   ]
  },
  {
   "cell_type": "code",
   "execution_count": 6,
   "metadata": {},
   "outputs": [
    {
     "name": "stdout",
     "output_type": "stream",
     "text": [
      "enter a number:14\n",
      "even\n"
     ]
    }
   ],
   "source": [
    "#even or odd\n",
    "n=int(input(\"enter a number:\"))\n",
    "if n%2==0:\n",
    "    print(\"even\")\n",
    "else:\n",
    "        print(\"odd\")"
   ]
  },
  {
   "cell_type": "code",
   "execution_count": 16,
   "metadata": {},
   "outputs": [
    {
     "name": "stdout",
     "output_type": "stream",
     "text": [
      "40 is the biggest\n"
     ]
    }
   ],
   "source": [
    "#biggest of 3 numbers\n",
    "a=10\n",
    "b=20\n",
    "c=40\n",
    "if (a>b and a>c):\n",
    "    print(a,\"is the biggest\")\n",
    "elif (b>c):\n",
    "    print(b,\"is the biggest\")\n",
    "else:\n",
    "    print(c,\"is the biggest\")\n",
    "    "
   ]
  },
  {
   "cell_type": "code",
   "execution_count": 18,
   "metadata": {},
   "outputs": [
    {
     "name": "stdout",
     "output_type": "stream",
     "text": [
      "1998\n",
      "not a leap year\n"
     ]
    }
   ],
   "source": [
    "#leap year\n",
    "year=int(input())\n",
    "if year%400==0 or (year%4==0 and year%100!=0):\n",
    "    print(\" leap year\")\n",
    "else:\n",
    "        print(\"not a leap year\")"
   ]
  },
  {
   "cell_type": "code",
   "execution_count": 19,
   "metadata": {},
   "outputs": [
    {
     "name": "stdout",
     "output_type": "stream",
     "text": [
      "enter a str1234\n",
      "enter a number12345\n",
      "not equal\n"
     ]
    }
   ],
   "source": [
    "a=input('enter a str')\n",
    "b=int(input('enter a number'))\n",
    "c=str(b)\n",
    "if c==a:\n",
    "    print('equal')\n",
    "else:\n",
    "    print(\"not equal\")"
   ]
  },
  {
   "cell_type": "code",
   "execution_count": 20,
   "metadata": {},
   "outputs": [],
   "source": [
    "#elif:\n",
    "#syntax:\n",
    "if condition:\n",
    "    statement\n",
    "elif condotion:\n",
    "    statement\n",
    "elif condion:\n",
    "    statement\n",
    "else:\n",
    "    statement"
   ]
  },
  {
   "cell_type": "code",
   "execution_count": 1,
   "metadata": {},
   "outputs": [
    {
     "name": "stdout",
     "output_type": "stream",
     "text": [
      "enter:14\n",
      "digit\n"
     ]
    }
   ],
   "source": [
    "n=input(\"enter:\")\n",
    "if(n>'a' and n<='z') or (n>='A' and n<='Z'):\n",
    "    print(\"alphabet\")\n",
    "elif(n>='0'and n<='9'):\n",
    "        print(\"digit\")\n",
    "else:\n",
    "    print(\"special charechter\")"
   ]
  },
  {
   "cell_type": "code",
   "execution_count": null,
   "metadata": {},
   "outputs": [],
   "source": [
    "choice=input()\n",
    "if choice=='a':\n",
    "    print(\"bad guess\")\n",
    "elif\n"
   ]
  },
  {
   "cell_type": "code",
   "execution_count": 2,
   "metadata": {},
   "outputs": [
    {
     "name": "stdout",
     "output_type": "stream",
     "text": [
      "enter the marks: 94\n",
      " congrats ! you scored as grade A ...\n"
     ]
    }
   ],
   "source": [
    "#task\n",
    "marks=int(input(\"enter the marks: \"))\n",
    "if marks >=80 and marks <=100:\n",
    "    print(\" congrats ! you scored as grade A ...\")\n",
    "elif marks >= 70 and marks <= 79:\n",
    "    print(\"you scored as grade B ...\")\n",
    "elif marks >=60 and marks <= 69:\n",
    "    print(\"you scored as grade C ...\")\n",
    "elif marks >=45 and marks <= 59:\n",
    "    print(\"you scored as grade D ...\")\n",
    "else:\n",
    "    print(\" sorry your fail...!\")\n",
    "    "
   ]
  },
  {
   "cell_type": "code",
   "execution_count": 8,
   "metadata": {},
   "outputs": [
    {
     "name": "stdout",
     "output_type": "stream",
     "text": [
      "enter a number2\n",
      "enter b number3\n",
      "1.add 2.sub 3.mul 4.div 5.mod 6.power 7.floorddivision\n",
      "enter your choice3\n",
      "multipliction of 6\n",
      " enter a valid choice\n"
     ]
    }
   ],
   "source": [
    "#task\n",
    "# arithmetic operators\n",
    "a=int(input(\"enter a number\"))\n",
    "b=int(input(\"enter b number\"))\n",
    "print(\"1.add 2.sub 3.mul 4.div 5.mod 6.power 7.floorddivision\")\n",
    "choice=int(input(\"enter your choice\"))\n",
    "if choice==1:\n",
    "    print(\"addition of\", a+b)\n",
    "if choice==2:\n",
    "    print(\"substraction of\",a-b)\n",
    "if choice==3:\n",
    "    print(\"multipliction of\", a*b)\n",
    "if choice==4:\n",
    "    print(\"division of\", a/b)\n",
    "if choice==5:\n",
    "    print(\"modulo of\", a%b)\n",
    "if choice==6:\n",
    "    print(\"power of\",a**b)\n",
    "if choice==7:\n",
    "    print(\"fliirdivision of\",a//b)\n",
    "else:\n",
    "    print(\" enter a valid choice\")\n"
   ]
  },
  {
   "cell_type": "code",
   "execution_count": 13,
   "metadata": {},
   "outputs": [
    {
     "name": "stdout",
     "output_type": "stream",
     "text": [
      "enter username:95\n",
      "enter password:1234\n",
      "welcome 95\n"
     ]
    }
   ],
   "source": [
    "uid=int(input('enter username:'))\n",
    "if(uid>=50 and uid<=100):\n",
    "    pwd=int(input('enter password:'))\n",
    "    if(pwd==1234):\n",
    "        print(\"welcome\",uid)\n",
    "    else:\n",
    "        print(\"invalid\")\n",
    "else:\n",
    "        print(\"invalid username\")"
   ]
  },
  {
   "cell_type": "code",
   "execution_count": 14,
   "metadata": {},
   "outputs": [
    {
     "name": "stdout",
     "output_type": "stream",
     "text": [
      "5\n",
      "friday\n"
     ]
    }
   ],
   "source": [
    "choice=int(input())\n",
    "if choice==1:\n",
    "    print(\"monday\")\n",
    "elif choice==2:\n",
    "    print(\"tuesday\")\n",
    "elif choice==3:\n",
    "    print(\"wednesday\")\n",
    "elif choice==4:\n",
    "    print(\"thursday\")\n",
    "elif choice==5:\n",
    "    print(\"friday\")\n",
    "elif choice==6:\n",
    "    print(\"saturday\")\n",
    "elif choice==7:\n",
    "    print(\"sunday\")\n",
    "else:\n",
    "    print(\"invalid\")\n",
    "    "
   ]
  },
  {
   "cell_type": "code",
   "execution_count": 5,
   "metadata": {},
   "outputs": [
    {
     "ename": "IndentationError",
     "evalue": "unindent does not match any outer indentation level (<tokenize>, line 10)",
     "output_type": "error",
     "traceback": [
      "\u001b[1;36m  File \u001b[1;32m\"<tokenize>\"\u001b[1;36m, line \u001b[1;32m10\u001b[0m\n\u001b[1;33m    else:\u001b[0m\n\u001b[1;37m    ^\u001b[0m\n\u001b[1;31mIndentationError\u001b[0m\u001b[1;31m:\u001b[0m unindent does not match any outer indentation level\n"
     ]
    }
   ],
   "source": [
    "#nested if\n",
    "#syntax\n",
    "if condition:\n",
    "    ststement\n",
    "if condition:\n",
    "        statement\n",
    "        elif condition:\n",
    "            statement\n",
    "            else condition:\n",
    "    else:\n",
    "        statement"
   ]
  },
  {
   "cell_type": "code",
   "execution_count": null,
   "metadata": {},
   "outputs": [],
   "source": [
    "n=int(input())\n",
    "if n%2==0:\n",
    "    if n<5:\n",
    "        print(n**2)\n",
    "    else:\n",
    "         print(n**3)\n",
    "else:\n",
    "     print(\"odd\")"
   ]
  },
  {
   "cell_type": "code",
   "execution_count": 11,
   "metadata": {},
   "outputs": [
    {
     "data": {
      "text/plain": [
       "1185921"
      ]
     },
     "execution_count": 11,
     "metadata": {},
     "output_type": "execute_result"
    }
   ],
   "source": [
    "33**4"
   ]
  },
  {
   "cell_type": "code",
   "execution_count": 23,
   "metadata": {},
   "outputs": [
    {
     "name": "stdout",
     "output_type": "stream",
     "text": [
      "choice 2\n"
     ]
    },
    {
     "ename": "ValueError",
     "evalue": "invalid literal for int() with base 10: 'choice 2'",
     "output_type": "error",
     "traceback": [
      "\u001b[1;31m---------------------------------------------------------------------------\u001b[0m",
      "\u001b[1;31mValueError\u001b[0m                                Traceback (most recent call last)",
      "\u001b[1;32m<ipython-input-23-23507137c50b>\u001b[0m in \u001b[0;36m<module>\u001b[1;34m\u001b[0m\n\u001b[1;32m----> 1\u001b[1;33m \u001b[0mchoice\u001b[0m\u001b[1;33m=\u001b[0m\u001b[0mint\u001b[0m\u001b[1;33m(\u001b[0m\u001b[0minput\u001b[0m\u001b[1;33m(\u001b[0m\u001b[1;33m)\u001b[0m\u001b[1;33m)\u001b[0m\u001b[1;33m\u001b[0m\u001b[1;33m\u001b[0m\u001b[0m\n\u001b[0m\u001b[0;32m      2\u001b[0m \u001b[1;32mif\u001b[0m \u001b[0mchoice\u001b[0m\u001b[1;33m==\u001b[0m\u001b[1;34m'1'\u001b[0m\u001b[1;33m:\u001b[0m\u001b[1;33m\u001b[0m\u001b[1;33m\u001b[0m\u001b[0m\n\u001b[0;32m      3\u001b[0m     \u001b[0mprint\u001b[0m\u001b[1;33m(\u001b[0m\u001b[1;34m\"bad guess\"\u001b[0m\u001b[1;33m)\u001b[0m\u001b[1;33m\u001b[0m\u001b[1;33m\u001b[0m\u001b[0m\n\u001b[0;32m      4\u001b[0m \u001b[1;32melif\u001b[0m \u001b[0mchoice\u001b[0m\u001b[1;33m==\u001b[0m\u001b[1;34m'2'\u001b[0m\u001b[1;33m:\u001b[0m\u001b[1;33m\u001b[0m\u001b[1;33m\u001b[0m\u001b[0m\n\u001b[0;32m      5\u001b[0m     \u001b[0mprint\u001b[0m\u001b[1;33m(\u001b[0m\u001b[1;34m\"close,but not currect\"\u001b[0m\u001b[1;33m)\u001b[0m\u001b[1;33m\u001b[0m\u001b[1;33m\u001b[0m\u001b[0m\n",
      "\u001b[1;31mValueError\u001b[0m: invalid literal for int() with base 10: 'choice 2'"
     ]
    }
   ],
   "source": [
    "choice=int(input())\n",
    "if choice=='1':\n",
    "    print(\"bad guess\")\n",
    "elif choice=='2':\n",
    "    print(\"close,but not currect\")\n",
    "elif choice=='3':\n",
    "    print(\"good guess\")\n",
    "else:\n",
    "    print(\"invalid\")"
   ]
  },
  {
   "cell_type": "code",
   "execution_count": null,
   "metadata": {},
   "outputs": [],
   "source": []
  },
  {
   "cell_type": "code",
   "execution_count": null,
   "metadata": {},
   "outputs": [],
   "source": []
  }
 ],
 "metadata": {
  "kernelspec": {
   "display_name": "Python 3",
   "language": "python",
   "name": "python3"
  },
  "language_info": {
   "codemirror_mode": {
    "name": "ipython",
    "version": 3
   },
   "file_extension": ".py",
   "mimetype": "text/x-python",
   "name": "python",
   "nbconvert_exporter": "python",
   "pygments_lexer": "ipython3",
   "version": "3.7.6"
  }
 },
 "nbformat": 4,
 "nbformat_minor": 4
}
