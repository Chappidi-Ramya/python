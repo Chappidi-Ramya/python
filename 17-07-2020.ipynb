{
 "cells": [
  {
   "cell_type": "code",
   "execution_count": null,
   "metadata": {},
   "outputs": [],
   "source": [
    "#jump statements\n",
    "- break \n",
    "-continue\n",
    "-pass"
   ]
  },
  {
   "cell_type": "code",
   "execution_count": null,
   "metadata": {},
   "outputs": [],
   "source": [
    "#break statement\n",
    "-teminates the loop stmt  and resume execution at the next stmt"
   ]
  },
  {
   "cell_type": "code",
   "execution_count": 3,
   "metadata": {},
   "outputs": [
    {
     "name": "stdout",
     "output_type": "stream",
     "text": [
      "current letter: p\n",
      "current letter: y\n",
      "current letter: t\n",
      "current letter: h\n"
     ]
    }
   ],
   "source": [
    "for i in \"python\":\n",
    "    if i=='o':\n",
    "        break\n",
    "    print('current letter:',i)"
   ]
  },
  {
   "cell_type": "code",
   "execution_count": 1,
   "metadata": {},
   "outputs": [
    {
     "name": "stdout",
     "output_type": "stream",
     "text": [
      "current value: 10\n",
      "good bye!\n",
      "current value: 9\n",
      "good bye!\n",
      "current value: 8\n",
      "good bye!\n",
      "current value: 7\n",
      "good bye!\n",
      "current value: 6\n"
     ]
    }
   ],
   "source": [
    "var=10\n",
    "while var>0:\n",
    "    print('current value:',var)\n",
    "    var-=1\n",
    "    if var==5:\n",
    "        break\n",
    "    print(\"good bye!\")"
   ]
  },
  {
   "cell_type": "code",
   "execution_count": null,
   "metadata": {},
   "outputs": [],
   "source": [
    "#continue statement\n",
    "-it causes the loop to skip the remainder of its body and immediatly retest its condition."
   ]
  },
  {
   "cell_type": "code",
   "execution_count": 6,
   "metadata": {},
   "outputs": [
    {
     "name": "stdout",
     "output_type": "stream",
     "text": [
      "current value: 9\n",
      "current value: 8\n",
      "current value: 7\n",
      "current value: 6\n",
      "current value: 4\n",
      "current value: 3\n",
      "current value: 2\n",
      "current value: 1\n",
      "current value: 0\n",
      "good bye!\n"
     ]
    }
   ],
   "source": [
    "var=10\n",
    "while var>0:\n",
    "    var-=1\n",
    "    if var==5:\n",
    "        continue\n",
    "    print('current value:',var)\n",
    "print(\"good bye!\")"
   ]
  },
  {
   "cell_type": "code",
   "execution_count": 3,
   "metadata": {},
   "outputs": [
    {
     "name": "stdout",
     "output_type": "stream",
     "text": [
      "current letter: p\n",
      "current letter: y\n",
      "current letter: t\n",
      "current letter: h\n",
      "current letter: n\n"
     ]
    }
   ],
   "source": [
    "for i in \"python\":\n",
    "    if i=='o':\n",
    "        continue\n",
    "    print('current letter:',i)"
   ]
  },
  {
   "cell_type": "code",
   "execution_count": null,
   "metadata": {},
   "outputs": [],
   "source": [
    "#pass\n",
    "- nothing happens when it executes.\n"
   ]
  },
  {
   "cell_type": "code",
   "execution_count": 15,
   "metadata": {},
   "outputs": [
    {
     "name": "stdout",
     "output_type": "stream",
     "text": [
      "current value: 10\n",
      "current value: 9\n",
      "current value: 8\n",
      "current value: 7\n",
      "current value: 6\n",
      "pass block\n",
      "current value: 5\n",
      "current value: 4\n",
      "current value: 3\n",
      "current value: 2\n",
      "current value: 1\n",
      "current value: 0\n",
      "good bye!\n"
     ]
    }
   ],
   "source": [
    "var=11\n",
    "while var>0:\n",
    "    var-=1\n",
    "    if var==5:\n",
    "        pass\n",
    "        print('pass block')\n",
    "    print('current value:',var)\n",
    "print(\"good bye!\")"
   ]
  },
  {
   "cell_type": "code",
   "execution_count": 10,
   "metadata": {
    "scrolled": true
   },
   "outputs": [
    {
     "name": "stdout",
     "output_type": "stream",
     "text": [
      "current letter: p\n",
      "current letter: y\n",
      "current letter: t\n",
      "current letter: h\n",
      "this is pass block\n",
      "current letter: o\n",
      "current letter: n\n"
     ]
    }
   ],
   "source": [
    "for i in \"python\":\n",
    "    if i=='o':\n",
    "        pass\n",
    "        print(\"this is pass block\")\n",
    "    print('current letter:',i)"
   ]
  },
  {
   "cell_type": "markdown",
   "metadata": {},
   "source": [
    "# python functions"
   ]
  },
  {
   "cell_type": "code",
   "execution_count": null,
   "metadata": {},
   "outputs": [],
   "source": [
    "-group of stmt to perform specific task.\n",
    "-function is a block of code which only runs when it is called.\n",
    "-it avoid repetition and make the code reusable.\n",
    "-defining usin the def keywords\n",
    "-an optional return stmt to return a value from the function\n"
   ]
  },
  {
   "cell_type": "code",
   "execution_count": null,
   "metadata": {},
   "outputs": [],
   "source": [
    "#syn\n",
    "def functionname(parameters):   #function defination\n",
    "    statements\n",
    "functionname(parameters)         #function call"
   ]
  },
  {
   "cell_type": "code",
   "execution_count": 16,
   "metadata": {},
   "outputs": [
    {
     "name": "stdout",
     "output_type": "stream",
     "text": [
      "prints the function\n"
     ]
    }
   ],
   "source": [
    "#print and return defination\n",
    "#-return stmt end the execution of a function if return is not given by default it returns none.\n",
    "#-print stmt shows the human user a string representing what is going on inside the computer.\n",
    "#-the return stmt used to exit a function and go back to the place \n",
    "def Print():\n",
    "    print(\"prints the function\")\n",
    "Print()"
   ]
  },
  {
   "cell_type": "code",
   "execution_count": 19,
   "metadata": {},
   "outputs": [
    {
     "name": "stdout",
     "output_type": "stream",
     "text": [
      "prints the function\n",
      "None\n"
     ]
    }
   ],
   "source": [
    "def Print():\n",
    "    print(\"prints the function\")\n",
    "y=Print()\n",
    "print(y)"
   ]
  },
  {
   "cell_type": "code",
   "execution_count": 21,
   "metadata": {},
   "outputs": [
    {
     "name": "stdout",
     "output_type": "stream",
     "text": [
      "prints the function\n"
     ]
    }
   ],
   "source": [
    "def Return():\n",
    "    return \"prints the function\"\n",
    "y=Return()\n",
    "print(y)"
   ]
  },
  {
   "cell_type": "code",
   "execution_count": 23,
   "metadata": {},
   "outputs": [
    {
     "name": "stdout",
     "output_type": "stream",
     "text": [
      "22\n",
      "None\n"
     ]
    }
   ],
   "source": [
    "def add():\n",
    "    a=10\n",
    "    b=12\n",
    "    c=a+b\n",
    "    print(c)\n",
    "addition=add()\n",
    "print(addition)"
   ]
  },
  {
   "cell_type": "code",
   "execution_count": 24,
   "metadata": {},
   "outputs": [
    {
     "name": "stdout",
     "output_type": "stream",
     "text": [
      "22\n"
     ]
    }
   ],
   "source": [
    "def add():\n",
    "    a=10\n",
    "    b=12\n",
    "    c=a+b\n",
    "    return(c)\n",
    "addition=add()\n",
    "print(addition)"
   ]
  },
  {
   "cell_type": "code",
   "execution_count": 26,
   "metadata": {},
   "outputs": [
    {
     "name": "stdout",
     "output_type": "stream",
     "text": [
      "22\n"
     ]
    }
   ],
   "source": [
    "def add():\n",
    "    a=10\n",
    "    b=12\n",
    "    c=a+b\n",
    "    return c\n",
    "addition=add()\n",
    "print(addition)"
   ]
  },
  {
   "cell_type": "code",
   "execution_count": 27,
   "metadata": {},
   "outputs": [
    {
     "name": "stdout",
     "output_type": "stream",
     "text": [
      "enter a:23\n",
      "enter b:14\n"
     ]
    }
   ],
   "source": [
    "add()\n",
    "a=int(input(\"enter a:\"))\n",
    "b=int(input(\"enter b:\"))"
   ]
  },
  {
   "cell_type": "code",
   "execution_count": 28,
   "metadata": {},
   "outputs": [
    {
     "name": "stdout",
     "output_type": "stream",
     "text": [
      "enter a:23\n",
      "enter b:14\n"
     ]
    },
    {
     "data": {
      "text/plain": [
       "37"
      ]
     },
     "execution_count": 28,
     "metadata": {},
     "output_type": "execute_result"
    }
   ],
   "source": [
    "a=int(input(\"enter a:\"))\n",
    "b=int(input(\"enter b:\"))\n",
    "def add():\n",
    "    return a+b\n",
    "add()"
   ]
  },
  {
   "cell_type": "code",
   "execution_count": null,
   "metadata": {},
   "outputs": [],
   "source": [
    "#arguments:\n",
    "1) required arguments\n",
    "2)keyword arguments\n",
    "3)default arguments\n",
    "4)variable lengh arguments"
   ]
  },
  {
   "cell_type": "code",
   "execution_count": null,
   "metadata": {},
   "outputs": [],
   "source": [
    "#required arguments:\n",
    "-arguments passed to function in correct positional order\n",
    "-number of arguments in function callshould match exactly with function defination."
   ]
  },
  {
   "cell_type": "code",
   "execution_count": 32,
   "metadata": {},
   "outputs": [
    {
     "name": "stdout",
     "output_type": "stream",
     "text": [
      "welcome to python class, ramya\n"
     ]
    }
   ],
   "source": [
    "def hii(name):\n",
    "    print(\"welcome to python class,\",name)\n",
    "hii('ramya')"
   ]
  },
  {
   "cell_type": "code",
   "execution_count": null,
   "metadata": {},
   "outputs": [],
   "source": [
    "#keyword arguments\n",
    "-identifiers the arguments by pareters name"
   ]
  },
  {
   "cell_type": "code",
   "execution_count": 35,
   "metadata": {},
   "outputs": [
    {
     "name": "stdout",
     "output_type": "stream",
     "text": [
      "name is RAMYA\n",
      "branch is ECE\n"
     ]
    }
   ],
   "source": [
    "def details(name,branch):\n",
    "    print(\"name is\",name)\n",
    "    print(\"branch is\",branch)\n",
    "details(branch='ECE',name='RAMYA')"
   ]
  },
  {
   "cell_type": "code",
   "execution_count": null,
   "metadata": {},
   "outputs": [],
   "source": [
    "#default arguments\n",
    "-assumes default value if value is not specified in function call.\n"
   ]
  },
  {
   "cell_type": "code",
   "execution_count": 36,
   "metadata": {},
   "outputs": [
    {
     "name": "stdout",
     "output_type": "stream",
     "text": [
      "2314 2017\n",
      "1998 2017\n"
     ]
    }
   ],
   "source": [
    "def studentdetails(number,year=2017):\n",
    "    print(number,year)\n",
    "studentdetails(2314)\n",
    "studentdetails(1998)"
   ]
  },
  {
   "cell_type": "code",
   "execution_count": null,
   "metadata": {},
   "outputs": [],
   "source": [
    "#variable length arguments\n",
    "-process a function for more arguments than you specified while defining the function"
   ]
  },
  {
   "cell_type": "code",
   "execution_count": 38,
   "metadata": {},
   "outputs": [
    {
     "name": "stdout",
     "output_type": "stream",
     "text": [
      "23\n",
      "python\n",
      "14\n",
      "1\n",
      "welcom\n",
      "to\n",
      "python\n"
     ]
    }
   ],
   "source": [
    "def vfun(n,*args):\n",
    "         print(n)\n",
    "         for i in args:\n",
    "            print(i)\n",
    "vfun(23,'python')\n",
    "vfun(14)\n",
    "vfun(1,'welcom','to','python')"
   ]
  },
  {
   "cell_type": "code",
   "execution_count": 39,
   "metadata": {},
   "outputs": [
    {
     "data": {
      "text/plain": [
       "1"
      ]
     },
     "execution_count": 39,
     "metadata": {},
     "output_type": "execute_result"
    }
   ],
   "source": [
    "def vfun(n,*args):\n",
    "         return(n)\n",
    "         for i in args:\n",
    "            return(i)\n",
    "vfun(23,'python')\n",
    "vfun(14)\n",
    "vfun(1,'welcom','to','python')"
   ]
  },
  {
   "cell_type": "code",
   "execution_count": null,
   "metadata": {},
   "outputs": [],
   "source": []
  }
 ],
 "metadata": {
  "kernelspec": {
   "display_name": "Python 3",
   "language": "python",
   "name": "python3"
  },
  "language_info": {
   "codemirror_mode": {
    "name": "ipython",
    "version": 3
   },
   "file_extension": ".py",
   "mimetype": "text/x-python",
   "name": "python",
   "nbconvert_exporter": "python",
   "pygments_lexer": "ipython3",
   "version": "3.7.6"
  }
 },
 "nbformat": 4,
 "nbformat_minor": 4
}
