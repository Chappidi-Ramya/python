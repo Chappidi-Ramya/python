{
 "cells": [
  {
   "cell_type": "code",
   "execution_count": 14,
   "metadata": {},
   "outputs": [
    {
     "ename": "NameError",
     "evalue": "name 'characters' is not defined",
     "output_type": "error",
     "traceback": [
      "\u001b[1;31m---------------------------------------------------------------------------\u001b[0m",
      "\u001b[1;31mNameError\u001b[0m                                 Traceback (most recent call last)",
      "\u001b[1;32m<ipython-input-14-20c046e323aa>\u001b[0m in \u001b[0;36m<module>\u001b[1;34m\u001b[0m\n\u001b[0;32m      6\u001b[0m     \u001b[0mwordslist\u001b[0m\u001b[1;33m=\u001b[0m\u001b[0mline\u001b[0m\u001b[1;33m.\u001b[0m\u001b[0msplit\u001b[0m\u001b[1;33m(\u001b[0m\u001b[1;33m)\u001b[0m\u001b[1;33m\u001b[0m\u001b[1;33m\u001b[0m\u001b[0m\n\u001b[0;32m      7\u001b[0m     \u001b[0mwords\u001b[0m\u001b[1;33m+=\u001b[0m\u001b[0mlen\u001b[0m\u001b[1;33m(\u001b[0m\u001b[0mwordslist\u001b[0m\u001b[1;33m)\u001b[0m\u001b[1;33m\u001b[0m\u001b[1;33m\u001b[0m\u001b[0m\n\u001b[1;32m----> 8\u001b[1;33m     \u001b[0mcharacters\u001b[0m\u001b[1;33m+=\u001b[0m\u001b[0mlen\u001b[0m\u001b[1;33m(\u001b[0m\u001b[0mline\u001b[0m\u001b[1;33m)\u001b[0m\u001b[1;33m\u001b[0m\u001b[1;33m\u001b[0m\u001b[0m\n\u001b[0m\u001b[0;32m      9\u001b[0m \u001b[0mprint\u001b[0m\u001b[1;33m(\u001b[0m\u001b[1;34m\"lines:\"\u001b[0m\u001b[1;33m,\u001b[0m\u001b[0mlines\u001b[0m\u001b[1;33m)\u001b[0m\u001b[1;33m\u001b[0m\u001b[1;33m\u001b[0m\u001b[0m\n\u001b[0;32m     10\u001b[0m \u001b[0mprint\u001b[0m\u001b[1;33m(\u001b[0m\u001b[1;34m\"words:\"\u001b[0m\u001b[1;33m,\u001b[0m\u001b[0mwords\u001b[0m\u001b[1;33m)\u001b[0m\u001b[1;33m\u001b[0m\u001b[1;33m\u001b[0m\u001b[0m\n",
      "\u001b[1;31mNameError\u001b[0m: name 'characters' is not defined"
     ]
    }
   ],
   "source": [
    "f=open(\"data.txt\",\"r\")\n",
    "lines=0\n",
    "words=0\n",
    "for line in f:\n",
    "    lines+=1\n",
    "    wordslist=line.split()\n",
    "    words+=len(wordslist)\n",
    "    characters+=len(line)\n",
    "print(\"lines:\",lines)\n",
    "print(\"words:\",words)\n",
    "print(\"characters:\",characters)"
   ]
  },
  {
   "cell_type": "code",
   "execution_count": 4,
   "metadata": {},
   "outputs": [
    {
     "data": {
      "text/plain": [
       "15"
      ]
     },
     "execution_count": 4,
     "metadata": {},
     "output_type": "execute_result"
    }
   ],
   "source": [
    "s=\"python workshop\"\n",
    "len(s)\n",
    "    "
   ]
  },
  {
   "cell_type": "code",
   "execution_count": 13,
   "metadata": {},
   "outputs": [
    {
     "name": "stdout",
     "output_type": "stream",
     "text": [
      "['ramya', 'hello', 'world', 'hai', 'programming', 'line', '2', '3', '4']\n"
     ]
    }
   ],
   "source": [
    "f=open(\"data.txt\",'r')\n",
    "fh=f.read()\n",
    "b=fh.split()\n",
    "d=[]\n",
    "for i in b:\n",
    "    if i not in d:\n",
    "        d.append(i)\n",
    "print(d)\n",
    "f.close()"
   ]
  },
  {
   "cell_type": "code",
   "execution_count": 12,
   "metadata": {},
   "outputs": [
    {
     "name": "stdout",
     "output_type": "stream",
     "text": [
      "['ramya', 'hello', 'world', 'hai', 'programming', '2', '3', '4']\n"
     ]
    }
   ],
   "source": [
    "f=open(\"data.txt\",'r')\n",
    "fh=f.read()\n",
    "b=fh.split()\n",
    "d=[]\n",
    "for i in b:\n",
    "    if b.count(i)==1:\n",
    "        d.append(i)\n",
    "print(d)\n",
    "f.close()"
   ]
  },
  {
   "cell_type": "code",
   "execution_count": 20,
   "metadata": {},
   "outputs": [],
   "source": [
    "#50 student manks randomlly\n",
    "from random import randint\n",
    "def marksgen(n,lb,ub):\n",
    "    with open(\"marks.txt\",'w') as f:\n",
    "        for i in range(0,n):\n",
    "            r=randint(lb,ub)\n",
    "            f.write(str(r)+'\\n')\n",
    "    return\n",
    "marksgen(50,1,100)"
   ]
  },
  {
   "cell_type": "code",
   "execution_count": 23,
   "metadata": {},
   "outputs": [
    {
     "data": {
      "text/plain": [
       "46.28"
      ]
     },
     "execution_count": 23,
     "metadata": {},
     "output_type": "execute_result"
    }
   ],
   "source": [
    "#student class avarage \n",
    "def classavg(filepath):\n",
    "    with open(filepath) as f:\n",
    "        fh=f.read()\n",
    "        b=fh.split()\n",
    "        sum=0\n",
    "        for i in b:\n",
    "            sum+=int(i)\n",
    "    return sum/len(b)\n",
    "filepath=\"marks.txt\"\n",
    "classavg(filepath)"
   ]
  },
  {
   "cell_type": "code",
   "execution_count": 29,
   "metadata": {},
   "outputs": [
    {
     "name": "stdout",
     "output_type": "stream",
     "text": [
      "passpercentage: 62.0\n",
      "failpercentage: 38.0\n",
      "31\n",
      "50\n"
     ]
    }
   ],
   "source": [
    "def passpercent(filepath):\n",
    "    with open(filepath) as f:\n",
    "        fh=f.read()\n",
    "        b=fh.split()\n",
    "        passcount=0\n",
    "        for i in b:\n",
    "            if int(i)>35:\n",
    "                passcount+=1\n",
    "    passpercentage=(passcount/len(b))*100\n",
    "    failpercentage=100-passpercentage\n",
    "    print(\"passpercentage:\",passpercentage)\n",
    "    print(\"failpercentage:\",failpercentage)\n",
    "    print(passcount)\n",
    "    print(len(b))\n",
    "filepath=\"marks.txt\"\n",
    "passpercent(filepath)"
   ]
  },
  {
   "cell_type": "code",
   "execution_count": 34,
   "metadata": {},
   "outputs": [
    {
     "data": {
      "text/plain": [
       "True"
      ]
     },
     "execution_count": 34,
     "metadata": {},
     "output_type": "execute_result"
    }
   ],
   "source": [
    "def iswordexist(filepath,word):\n",
    "    with open (filepath,'r') as f:\n",
    "        fh=f.read()\n",
    "        b=fh.split()\n",
    "        if word in b:\n",
    "            return True\n",
    "        else:\n",
    "            return False\n",
    "filepath=\"data.txt\"\n",
    "iswordexist(filepath,'line')"
   ]
  },
  {
   "cell_type": "markdown",
   "metadata": {},
   "source": [
    "# comprehensions"
   ]
  },
  {
   "cell_type": "code",
   "execution_count": null,
   "metadata": {},
   "outputs": [],
   "source": [
    "we havw\n",
    "-kist comprehensinons\n",
    "-dictionry comprehensions\n",
    "-set comprehensions"
   ]
  },
  {
   "cell_type": "code",
   "execution_count": null,
   "metadata": {},
   "outputs": [],
   "source": [
    "#lis comprehensions:\n",
    "-easy way to create\n",
    "-more efficient\n",
    "#syntax:\n",
    "[expressipon for item in list if condition]\n"
   ]
  },
  {
   "cell_type": "code",
   "execution_count": 36,
   "metadata": {},
   "outputs": [
    {
     "ename": "SyntaxError",
     "evalue": "invalid syntax (<ipython-input-36-faa408b2f5d7>, line 1)",
     "output_type": "error",
     "traceback": [
      "\u001b[1;36m  File \u001b[1;32m\"<ipython-input-36-faa408b2f5d7>\"\u001b[1;36m, line \u001b[1;32m1\u001b[0m\n\u001b[1;33m    for item in range(1,12)\u001b[0m\n\u001b[1;37m                           ^\u001b[0m\n\u001b[1;31mSyntaxError\u001b[0m\u001b[1;31m:\u001b[0m invalid syntax\n"
     ]
    }
   ],
   "source": [
    "for item in list:\n",
    "    if condition:\n",
    "        printr(expresiions)"
   ]
  },
  {
   "cell_type": "code",
   "execution_count": 39,
   "metadata": {},
   "outputs": [
    {
     "name": "stdout",
     "output_type": "stream",
     "text": [
      "[1, 2, 3, 4, 5, 6, 7, 8, 9, 10, 11]\n"
     ]
    }
   ],
   "source": [
    "li=[]\n",
    "for i in range(1,12):\n",
    "    li.append(i)\n",
    "print(li)"
   ]
  },
  {
   "cell_type": "code",
   "execution_count": 42,
   "metadata": {},
   "outputs": [
    {
     "name": "stdout",
     "output_type": "stream",
     "text": [
      "1 2 3 4 5 6 7 8 9 10 11 "
     ]
    }
   ],
   "source": [
    "for i in range(1,12):\n",
    "    print(i,end=\" \")"
   ]
  },
  {
   "cell_type": "code",
   "execution_count": 43,
   "metadata": {},
   "outputs": [
    {
     "name": "stdout",
     "output_type": "stream",
     "text": [
      "[1, 4, 9, 16, 25, 36, 49, 64, 81, 100, 121]\n"
     ]
    }
   ],
   "source": [
    "li=[i**2 for i in range(1,12)]\n",
    "print(li)"
   ]
  },
  {
   "cell_type": "code",
   "execution_count": 44,
   "metadata": {},
   "outputs": [
    {
     "name": "stdout",
     "output_type": "stream",
     "text": [
      "[2, 4, 6, 8, 10]\n"
     ]
    }
   ],
   "source": [
    "li=[i for i in range(2,12,2)]\n",
    "print(li)"
   ]
  },
  {
   "cell_type": "code",
   "execution_count": 45,
   "metadata": {},
   "outputs": [
    {
     "name": "stdout",
     "output_type": "stream",
     "text": [
      "[1, 3, 5, 7, 9, 11]\n"
     ]
    }
   ],
   "source": [
    "li=[i for i in range(1,12,2)]\n",
    "print(li)"
   ]
  },
  {
   "cell_type": "code",
   "execution_count": 46,
   "metadata": {},
   "outputs": [
    {
     "name": "stdout",
     "output_type": "stream",
     "text": [
      "[2, 4, 6, 8, 10]\n"
     ]
    }
   ],
   "source": [
    "li=[i for i in range(2,12) if i%2==0]\n",
    "print(li)"
   ]
  },
  {
   "cell_type": "code",
   "execution_count": 48,
   "metadata": {},
   "outputs": [
    {
     "name": "stdout",
     "output_type": "stream",
     "text": [
      "[14, 28, 42, 56, 70, 84, 98]\n"
     ]
    }
   ],
   "source": [
    "li=[i for i in range(1,100) if i%2==0 and i%7==0]\n",
    "print(li)"
   ]
  },
  {
   "cell_type": "code",
   "execution_count": 53,
   "metadata": {},
   "outputs": [
    {
     "name": "stdout",
     "output_type": "stream",
     "text": [
      "['even', 'even', 'even', 'even', 'even']\n"
     ]
    }
   ],
   "source": [
    "li=[\"even\" for i in range(1,11) if i%2==0]\n",
    "print(li)"
   ]
  },
  {
   "cell_type": "code",
   "execution_count": 52,
   "metadata": {},
   "outputs": [
    {
     "name": "stdout",
     "output_type": "stream",
     "text": [
      "['odd', 'even', 'odd', 'even', 'odd', 'even', 'odd', 'even', 'odd', 'even']\n"
     ]
    }
   ],
   "source": [
    "print([\"even\" if i%2==0 else \"odd\" for i in range(1,11)])"
   ]
  },
  {
   "cell_type": "code",
   "execution_count": 54,
   "metadata": {},
   "outputs": [
    {
     "name": "stdout",
     "output_type": "stream",
     "text": [
      "['1', '2', '3', '4', '5', '6', '7']\n"
     ]
    }
   ],
   "source": [
    "s=\"hello 123 hii hloo4567\"\n",
    "print([i for i in s if i.isdigit()])"
   ]
  },
  {
   "cell_type": "code",
   "execution_count": null,
   "metadata": {},
   "outputs": [],
   "source": [
    "#dictionary comprehension\n",
    "{key:value for x in iterable}"
   ]
  },
  {
   "cell_type": "code",
   "execution_count": 55,
   "metadata": {},
   "outputs": [
    {
     "name": "stdout",
     "output_type": "stream",
     "text": [
      "{1: 1, 2: 4, 3: 9, 4: 16, 5: 25}\n"
     ]
    }
   ],
   "source": [
    "d={i:i**2 for i in[1,2,3,4,5]}\n",
    "print(d)"
   ]
  },
  {
   "cell_type": "code",
   "execution_count": 56,
   "metadata": {},
   "outputs": [
    {
     "data": {
      "text/plain": [
       "'A'"
      ]
     },
     "execution_count": 56,
     "metadata": {},
     "output_type": "execute_result"
    }
   ],
   "source": [
    "chr(65)"
   ]
  },
  {
   "cell_type": "code",
   "execution_count": 57,
   "metadata": {},
   "outputs": [
    {
     "name": "stdout",
     "output_type": "stream",
     "text": [
      "{0: 'A', 1: 'B', 2: 'C', 3: 'D'}\n"
     ]
    }
   ],
   "source": [
    "#{0:A,1:B:.....} #0,1,2,3\n",
    "d={i:chr(65+i) for i in range(4)}\n",
    "print(d)"
   ]
  },
  {
   "cell_type": "code",
   "execution_count": 59,
   "metadata": {},
   "outputs": [
    {
     "name": "stdout",
     "output_type": "stream",
     "text": [
      "{'ramya': 5, 'ram': 3, 'yesu': 4}\n"
     ]
    }
   ],
   "source": [
    "names=['ramya','ram','yesu']\n",
    "d={i:len(i) for i in names}\n",
    "print(d)"
   ]
  },
  {
   "cell_type": "code",
   "execution_count": 61,
   "metadata": {},
   "outputs": [
    {
     "data": {
      "text/plain": [
       "{'o': 3, 'p': 2, 'c': 1}"
      ]
     },
     "execution_count": 61,
     "metadata": {},
     "output_type": "execute_result"
    }
   ],
   "source": [
    "li=['o','o','o','p','p','c']\n",
    "{i:li.count(i) for i in li}"
   ]
  },
  {
   "cell_type": "code",
   "execution_count": null,
   "metadata": {},
   "outputs": [],
   "source": [
    "#set comprehension\n",
    "#syntax:\n",
    "{var for var in iterable}"
   ]
  },
  {
   "cell_type": "code",
   "execution_count": 63,
   "metadata": {},
   "outputs": [
    {
     "data": {
      "text/plain": [
       "{1, 2, 3, 4, 8, 9, 12, 20}"
      ]
     },
     "execution_count": 63,
     "metadata": {},
     "output_type": "execute_result"
    }
   ],
   "source": [
    "{i for i in[1,3,8,2,4,9,12,20]}"
   ]
  },
  {
   "cell_type": "code",
   "execution_count": 64,
   "metadata": {},
   "outputs": [
    {
     "data": {
      "text/plain": [
       "{2, 4, 8, 12, 20}"
      ]
     },
     "execution_count": 64,
     "metadata": {},
     "output_type": "execute_result"
    }
   ],
   "source": [
    "{i for i in[1,3,8,2,4,9,12,20] if i%2==0}"
   ]
  },
  {
   "cell_type": "code",
   "execution_count": 65,
   "metadata": {},
   "outputs": [
    {
     "data": {
      "text/plain": [
       "{(1, 1),\n",
       " (2, 1),\n",
       " (3, 2),\n",
       " (4, 1),\n",
       " (6, 1),\n",
       " (12, 1),\n",
       " (23, 1),\n",
       " (45, 1),\n",
       " (54, 1),\n",
       " (56, 1),\n",
       " (78, 1)}"
      ]
     },
     "execution_count": 65,
     "metadata": {},
     "output_type": "execute_result"
    }
   ],
   "source": [
    "li=[12,3,4,56,23,45,78,54,1,3,2,6]\n",
    "{(i,li.count(i)) for i in li}"
   ]
  },
  {
   "cell_type": "code",
   "execution_count": null,
   "metadata": {},
   "outputs": [],
   "source": [
    "li={(x,y,z) for x in range(1,100) for y in range(1,100) for z in range(1,100) if(x**2+Y**2+z**2)}"
   ]
  },
  {
   "cell_type": "code",
   "execution_count": 79,
   "metadata": {},
   "outputs": [
    {
     "name": "stdout",
     "output_type": "stream",
     "text": [
      "{'ramya': 5, 'ram': 3, 'yesu': 4}\n"
     ]
    }
   ],
   "source": [
    "[i for i in range(1,11) if i%2==0 if i<5]\n",
    "print(d)"
   ]
  },
  {
   "cell_type": "code",
   "execution_count": 81,
   "metadata": {},
   "outputs": [
    {
     "name": "stdout",
     "output_type": "stream",
     "text": [
      "[2, 4]\n"
     ]
    }
   ],
   "source": [
    "d=[i for i in range(1,11) if i%2==0 if i<5]\n",
    "print(d)"
   ]
  },
  {
   "cell_type": "code",
   "execution_count": null,
   "metadata": {},
   "outputs": [],
   "source": [
    "li={(x,y,z) for x in range(1,100) for y in range(1,100) for z in range(1,100) if(x**2+Y**2==z**2)}"
   ]
  }
 ],
 "metadata": {
  "kernelspec": {
   "display_name": "Python 3",
   "language": "python",
   "name": "python3"
  },
  "language_info": {
   "codemirror_mode": {
    "name": "ipython",
    "version": 3
   },
   "file_extension": ".py",
   "mimetype": "text/x-python",
   "name": "python",
   "nbconvert_exporter": "python",
   "pygments_lexer": "ipython3",
   "version": "3.7.6"
  }
 },
 "nbformat": 4,
 "nbformat_minor": 4
}
